{
  "metadata": {
    "language_info": {
      "codemirror_mode": {
        "name": "python",
        "version": 3
      },
      "file_extension": ".py",
      "mimetype": "text/x-python",
      "name": "python",
      "nbconvert_exporter": "python",
      "pygments_lexer": "ipython3",
      "version": "3.8"
    },
    "kernelspec": {
      "name": "python",
      "display_name": "Python (Pyodide)",
      "language": "python"
    }
  },
  "nbformat_minor": 4,
  "nbformat": 4,
  "cells": [
    {
      "cell_type": "code",
      "source": "# Notebook kris\n",
      "metadata": {
        "trusted": true
      },
      "execution_count": 2,
      "outputs": []
    },
    {
      "cell_type": "markdown",
      "source": "## Welcome to My JupyterLite Notebook! \n\n  \n\nIn this notebook, we will explore various concepts using JupyterLite. JupyterLite is a lightweight distribution of Jupyter that allows you to run Jupyter notebooks directly in your browser without the need for a Jupyter server. It's great for quick experiments, learning, and sharing code. \n\n  \n\nLet's get started! \n",
      "metadata": {}
    },
    {
      "cell_type": "markdown",
      "source": "## Data Science Programming Languages \n\n  \n\n- Python \n\n- R \n\n- Julia \n\n- SQL ",
      "metadata": {}
    },
    {
      "cell_type": "markdown",
      "source": "## Data Science Libraries \n\n  \n\n- **Python:** \n\n  - NumPy \n\n  - Pandas \n\n  - Matplotlib \n\n  - Seaborn \n\n  - Scikit-learn \n\n  \n\n- **R:** \n\n  - dplyr \n\n  - ggplot2 \n\n  - tidyr \n\n  - caret \n\n  \n\n- **Julia:** \n\n  - DataFrames.jl \n\n  - Plots.jl \n\n  - MLJ.jl \n\n  \n\n- **SQL:** \n\n  - SQLAlchemy \n\n  - Pandas SQL \n\n ",
      "metadata": {}
    },
    {
      "cell_type": "markdown",
      "source": "## Data Science Tools \n\n  \n\n| Language | Libraries               | IDE/Notebook          | \n\n|----------|-------------------------|-----------------------| \n\n| Python   | NumPy, Pandas, Matplotlib | Jupyter Notebook, VS Code | \n\n| R        | dplyr, ggplot2          | RStudio               | \n\n| Julia    | DataFrames.jl, Plots.jl | Pluto.jl, VS Code     | \n\n| SQL      | SQLAlchemy, Pandas SQL  | SQL Clients           | ",
      "metadata": {}
    },
    {
      "cell_type": "markdown",
      "source": "## Arithmetic Expressions Examples \n\n  \n\n1. Addition: 2 + 3 = 5 \n\n2. Subtraction: 8 - 5 = 3 \n\n3. Multiplication: 4 * 6 = 24 \n\n4. Division: 15 / 3 = 5 \n\n5. Exponentiation: 2^4 = 16 \n\n6. Parentheses: (2 + 3) * 4 = 20 \n\n7. Order of Operations: 10 + 4 * 2 = 18 ",
      "metadata": {}
    },
    {
      "cell_type": "code",
      "source": "# Multiplication \n\nresult_multiply = 5 * 7 \n\nprint(\"Multiplication:\", result_multiply) \n\n  \n\n# Addition \n\nresult_addition = 10 + 20 \n\nprint(\"Addition:\", result_addition) ",
      "metadata": {
        "trusted": true
      },
      "execution_count": 32,
      "outputs": [
        {
          "name": "stdout",
          "text": "Multiplication: 35\nAddition: 30\n",
          "output_type": "stream"
        }
      ]
    },
    {
      "cell_type": "code",
      "source": " \n\n# Convert minutes to hours \n\nminutes = 150 \n\nhours = minutes / 60 \n\n  \n\nprint(f\"{minutes} minutes is equal to {hours:.2f} hours\") ",
      "metadata": {
        "trusted": true
      },
      "execution_count": 33,
      "outputs": [
        {
          "name": "stdout",
          "text": "150 minutes is equal to 2.50 hours\n",
          "output_type": "stream"
        }
      ]
    },
    {
      "cell_type": "markdown",
      "source": "## Learning Objectives \n\n  \n\n1. Understand basic arithmetic operations. \n\n2. Convert between different units of time. \n\n3. Familiarize yourself with data science libraries. ",
      "metadata": {}
    },
    {
      "cell_type": "markdown",
      "source": "## Author \n\n  \n\nThis notebook was created by: Kristiano ",
      "metadata": {}
    },
    {
      "cell_type": "code",
      "source": "",
      "metadata": {},
      "execution_count": null,
      "outputs": []
    }
  ]
}